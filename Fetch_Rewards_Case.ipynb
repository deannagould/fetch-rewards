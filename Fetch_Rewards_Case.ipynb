{
 "cells": [
  {
   "cell_type": "markdown",
   "metadata": {},
   "source": [
    "### Importing Libraries"
   ]
  },
  {
   "cell_type": "code",
   "execution_count": 2,
   "metadata": {},
   "outputs": [],
   "source": [
    "import pandas as pd\n",
    "import numpy as np\n",
    "from datetime import datetime\n",
    "from pandas import json_normalize\n",
    "import json\n",
    "import matplotlib.pyplot as plt\n",
    "import seaborn as sns\n"
   ]
  },
  {
   "cell_type": "markdown",
   "metadata": {},
   "source": [
    "### Creating Dataframes"
   ]
  },
  {
   "cell_type": "code",
   "execution_count": 3,
   "metadata": {},
   "outputs": [],
   "source": [
    "# creating dataframes for the json files\n",
    "\n",
    "receipts = pd.read_json('data/receipts.json', lines=True)\n",
    "brands = pd.read_json('data/brands.json', lines=True)\n",
    "users = pd.read_json('data/users.json', lines=True)"
   ]
  },
  {
   "cell_type": "markdown",
   "metadata": {},
   "source": [
    "#### Receipts"
   ]
  },
  {
   "cell_type": "code",
   "execution_count": 4,
   "metadata": {},
   "outputs": [],
   "source": [
    "# get rid of oid and keep id\n",
    "receipts['_id'] = receipts['_id'].apply(lambda x: x['$oid'])\n",
    "\n",
    "# change date columns to datetime datatypes\n",
    "\n",
    "def cast_datetime(df, col):\n",
    "    ans = []\n",
    "    for x in df[col].values:\n",
    "        if type(x) == float:\n",
    "            ans.append(np.nan)\n",
    "        else:\n",
    "            ans.append(pd.to_datetime(datetime.fromtimestamp(x['$date'] // 1000)))\n",
    "    df[col] = ans\n",
    "    return df\n",
    "\n",
    "# listing all date columns to be changed\n",
    "date_cols = ['createDate', 'dateScanned', 'finishedDate', 'modifyDate', \n",
    "             'pointsAwardedDate', 'purchaseDate']\n",
    "\n",
    "# loop over datetime columns\n",
    "for col in date_cols:\n",
    "    receipts = cast_datetime(receipts, col)\n"
   ]
  },
  {
   "cell_type": "markdown",
   "metadata": {},
   "source": [
    "#### Items"
   ]
  },
  {
   "cell_type": "code",
   "execution_count": 5,
   "metadata": {},
   "outputs": [
    {
     "name": "stderr",
     "output_type": "stream",
     "text": [
      "/Users/deannagould/Documents/Bucks/venv/lib/python3.11/site-packages/pandas/core/series.py:953: RuntimeWarning: invalid value encountered in cast\n",
      "  arr = np.asarray(values, dtype=dtype)\n"
     ]
    },
    {
     "data": {
      "text/html": [
       "<div>\n",
       "<style scoped>\n",
       "    .dataframe tbody tr th:only-of-type {\n",
       "        vertical-align: middle;\n",
       "    }\n",
       "\n",
       "    .dataframe tbody tr th {\n",
       "        vertical-align: top;\n",
       "    }\n",
       "\n",
       "    .dataframe thead th {\n",
       "        text-align: right;\n",
       "    }\n",
       "</style>\n",
       "<table border=\"1\" class=\"dataframe\">\n",
       "  <thead>\n",
       "    <tr style=\"text-align: right;\">\n",
       "      <th></th>\n",
       "      <th>barcode</th>\n",
       "      <th>description</th>\n",
       "      <th>finalPrice</th>\n",
       "      <th>itemPrice</th>\n",
       "      <th>needsFetchReview</th>\n",
       "      <th>partnerItemId</th>\n",
       "      <th>preventTargetGapPoints</th>\n",
       "      <th>quantityPurchased</th>\n",
       "      <th>userFlaggedBarcode</th>\n",
       "      <th>userFlaggedNewItem</th>\n",
       "      <th>...</th>\n",
       "      <th>originalMetaBriteQuantityPurchased</th>\n",
       "      <th>pointsEarned</th>\n",
       "      <th>targetPrice</th>\n",
       "      <th>competitiveProduct</th>\n",
       "      <th>originalFinalPrice</th>\n",
       "      <th>originalMetaBriteItemPrice</th>\n",
       "      <th>deleted</th>\n",
       "      <th>priceAfterCoupon</th>\n",
       "      <th>metabriteCampaignId</th>\n",
       "      <th>receiptId</th>\n",
       "    </tr>\n",
       "  </thead>\n",
       "  <tbody>\n",
       "    <tr>\n",
       "      <th>0</th>\n",
       "      <td>4011</td>\n",
       "      <td>ITEM NOT FOUND</td>\n",
       "      <td>26.00</td>\n",
       "      <td>26.00</td>\n",
       "      <td>False</td>\n",
       "      <td>1</td>\n",
       "      <td>True</td>\n",
       "      <td>5.0</td>\n",
       "      <td>4011</td>\n",
       "      <td>True</td>\n",
       "      <td>...</td>\n",
       "      <td>NaN</td>\n",
       "      <td>NaN</td>\n",
       "      <td>NaN</td>\n",
       "      <td>NaN</td>\n",
       "      <td>NaN</td>\n",
       "      <td>NaN</td>\n",
       "      <td>NaN</td>\n",
       "      <td>NaN</td>\n",
       "      <td>NaN</td>\n",
       "      <td>5ff1e1eb0a720f0523000575</td>\n",
       "    </tr>\n",
       "  </tbody>\n",
       "</table>\n",
       "<p>1 rows × 35 columns</p>\n",
       "</div>"
      ],
      "text/plain": [
       "  barcode     description finalPrice itemPrice needsFetchReview partnerItemId  \\\n",
       "0    4011  ITEM NOT FOUND      26.00     26.00            False             1   \n",
       "\n",
       "  preventTargetGapPoints  quantityPurchased userFlaggedBarcode  \\\n",
       "0                   True                5.0               4011   \n",
       "\n",
       "  userFlaggedNewItem  ... originalMetaBriteQuantityPurchased  pointsEarned  \\\n",
       "0               True  ...                                NaN           NaN   \n",
       "\n",
       "  targetPrice competitiveProduct originalFinalPrice  \\\n",
       "0         NaN                NaN                NaN   \n",
       "\n",
       "  originalMetaBriteItemPrice deleted priceAfterCoupon metabriteCampaignId  \\\n",
       "0                        NaN     NaN              NaN                 NaN   \n",
       "\n",
       "                  receiptId  \n",
       "0  5ff1e1eb0a720f0523000575  \n",
       "\n",
       "[1 rows x 35 columns]"
      ]
     },
     "execution_count": 5,
     "metadata": {},
     "output_type": "execute_result"
    }
   ],
   "source": [
    "# exploding the rewardReceiptItemList column\n",
    "# this column has nested, structured data\n",
    "# creating a new table called items\n",
    "\n",
    "items = pd.DataFrame()\n",
    "items = json_normalize(receipts['rewardsReceiptItemList'].explode().dropna())\n",
    "items['receiptId'] = receipts.loc[receipts.index.repeat(receipts['rewardsReceiptItemList'].str.len()), '_id'].values\n",
    "\n",
    "\n",
    "items.head(1)"
   ]
  },
  {
   "cell_type": "markdown",
   "metadata": {},
   "source": [
    "#### Users"
   ]
  },
  {
   "cell_type": "code",
   "execution_count": 6,
   "metadata": {},
   "outputs": [],
   "source": [
    "# get rid of oid and keep id\n",
    "users['_id'] = users['_id'].apply(lambda x: x['$oid'])\n",
    "\n",
    "# converting values in date columns to datetime datatypes\n",
    "date_cols = ['createdDate', 'lastLogin']\n",
    "for col in date_cols:\n",
    "    users = cast_datetime(users, col)"
   ]
  },
  {
   "cell_type": "markdown",
   "metadata": {},
   "source": [
    "#### Brands"
   ]
  },
  {
   "cell_type": "code",
   "execution_count": 7,
   "metadata": {},
   "outputs": [],
   "source": [
    "# get rid of oid and keep id\n",
    "brands['_id'] = brands['_id'].apply(lambda x: x['$oid'])\n",
    "\n",
    "# normalizing cpg column in brands\n",
    "cpg = pd.json_normalize(brands['cpg'])\n",
    "cpg['_id'] = brands['_id']\n",
    "\n",
    "# renaming column names so they can be used in sql tables if needed\n",
    "cpg = cpg.rename(columns={\"$ref\": \"ref\", \"$id.$oid\": \"id\"})\n",
    "\n",
    "# dropping original cpg column from brands\n",
    "brands = brands.drop(columns=['cpg'])  \n",
    "\n",
    "# pulling cpg back into the df\n",
    "brands = brands.merge(cpg, on=\"_id\", how=\"left\") \n",
    "\n",
    "# dropping the second id column\n",
    "brands = brands.drop(columns=['id'])"
   ]
  },
  {
   "cell_type": "code",
   "execution_count": 8,
   "metadata": {},
   "outputs": [
    {
     "data": {
      "text/html": [
       "<div>\n",
       "<style scoped>\n",
       "    .dataframe tbody tr th:only-of-type {\n",
       "        vertical-align: middle;\n",
       "    }\n",
       "\n",
       "    .dataframe tbody tr th {\n",
       "        vertical-align: top;\n",
       "    }\n",
       "\n",
       "    .dataframe thead th {\n",
       "        text-align: right;\n",
       "    }\n",
       "</style>\n",
       "<table border=\"1\" class=\"dataframe\">\n",
       "  <thead>\n",
       "    <tr style=\"text-align: right;\">\n",
       "      <th></th>\n",
       "      <th>_id</th>\n",
       "      <th>barcode</th>\n",
       "      <th>category</th>\n",
       "      <th>categoryCode</th>\n",
       "      <th>name</th>\n",
       "      <th>topBrand</th>\n",
       "      <th>brandCode</th>\n",
       "      <th>ref</th>\n",
       "    </tr>\n",
       "  </thead>\n",
       "  <tbody>\n",
       "    <tr>\n",
       "      <th>0</th>\n",
       "      <td>601ac115be37ce2ead437551</td>\n",
       "      <td>511111019862</td>\n",
       "      <td>Baking</td>\n",
       "      <td>BAKING</td>\n",
       "      <td>test brand @1612366101024</td>\n",
       "      <td>0.0</td>\n",
       "      <td>NaN</td>\n",
       "      <td>Cogs</td>\n",
       "    </tr>\n",
       "  </tbody>\n",
       "</table>\n",
       "</div>"
      ],
      "text/plain": [
       "                        _id       barcode category categoryCode  \\\n",
       "0  601ac115be37ce2ead437551  511111019862   Baking       BAKING   \n",
       "\n",
       "                        name  topBrand brandCode   ref  \n",
       "0  test brand @1612366101024       0.0       NaN  Cogs  "
      ]
     },
     "execution_count": 8,
     "metadata": {},
     "output_type": "execute_result"
    }
   ],
   "source": [
    "brands.head(1)"
   ]
  },
  {
   "cell_type": "markdown",
   "metadata": {},
   "source": [
    "### Investigating Data Quality"
   ]
  },
  {
   "cell_type": "code",
   "execution_count": 9,
   "metadata": {},
   "outputs": [
    {
     "name": "stdout",
     "output_type": "stream",
     "text": [
      "_id                                object\n",
      "bonusPointsEarned                 float64\n",
      "bonusPointsEarnedReason            object\n",
      "createDate                 datetime64[ns]\n",
      "dateScanned                datetime64[ns]\n",
      "finishedDate               datetime64[ns]\n",
      "modifyDate                 datetime64[ns]\n",
      "pointsAwardedDate          datetime64[ns]\n",
      "pointsEarned                      float64\n",
      "purchaseDate               datetime64[ns]\n",
      "purchasedItemCount                float64\n",
      "rewardsReceiptItemList             object\n",
      "rewardsReceiptStatus               object\n",
      "totalSpent                        float64\n",
      "userId                             object\n",
      "dtype: object\n"
     ]
    }
   ],
   "source": [
    "print(receipts.dtypes)"
   ]
  },
  {
   "cell_type": "code",
   "execution_count": 10,
   "metadata": {},
   "outputs": [
    {
     "name": "stdout",
     "output_type": "stream",
     "text": [
      "_id                     object\n",
      "active                    bool\n",
      "createdDate     datetime64[ns]\n",
      "lastLogin       datetime64[ns]\n",
      "role                    object\n",
      "signUpSource            object\n",
      "state                   object\n",
      "dtype: object\n"
     ]
    }
   ],
   "source": [
    "print(users.dtypes)"
   ]
  },
  {
   "cell_type": "code",
   "execution_count": 11,
   "metadata": {},
   "outputs": [
    {
     "name": "stdout",
     "output_type": "stream",
     "text": [
      "_id              object\n",
      "barcode           int64\n",
      "category         object\n",
      "categoryCode     object\n",
      "name             object\n",
      "topBrand        float64\n",
      "brandCode        object\n",
      "ref              object\n",
      "dtype: object\n"
     ]
    }
   ],
   "source": [
    "print(brands.dtypes)"
   ]
  },
  {
   "cell_type": "code",
   "execution_count": 12,
   "metadata": {},
   "outputs": [
    {
     "data": {
      "image/png": "[encoded data removed]",
      "text/plain": [
       "<Figure size 1000x600 with 1 Axes>"
      ]
     },
     "metadata": {},
     "output_type": "display_data"
    }
   ],
   "source": [
    "# simply plotting how many null values there are doesn't tell me enough about the df\n",
    "# creating a function to get the null percentage\n",
    "\n",
    "def null_percentage_plot(df, cutoff=0, plot_width=10, plot_height=6):\n",
    "     # Calculate the null percentage for each column\n",
    "    null_percent = df.isnull().mean() * 100\n",
    "\n",
    "    # Set up the plot\n",
    "    plt.figure(figsize=(plot_width, plot_height))\n",
    "    null_percent.sort_values(ascending=True).plot(kind='barh')\n",
    "\n",
    "    # Add cutoff line, labels, and title\n",
    "    plt.axvline(x=cutoff, color='red', linestyle='--', label=f'Cutoff: {cutoff}%')\n",
    "    plt.xlabel('Null Percentage')\n",
    "    plt.ylabel('Columns')\n",
    "    plt.title('Null Percentage Per Column')\n",
    "    plt.legend()\n",
    "\n",
    "    # Show the plot\n",
    "    plt.show()\n",
    "\n",
    "null_percentage_plot(receipts, cutoff=40, plot_width=10, plot_height=6)\n",
    "  "
   ]
  },
  {
   "cell_type": "code",
   "execution_count": 13,
   "metadata": {},
   "outputs": [
    {
     "name": "stdout",
     "output_type": "stream",
     "text": [
      "Number of outliers: 36\n"
     ]
    }
   ],
   "source": [
    "def check_outliers(df, col, threshold=1.5):\n",
    "    Q1 = df[col].quantile(0.25)\n",
    "    Q3 = df[col].quantile(0.75)\n",
    "    IQR = Q3 - Q1\n",
    "    lower_bound = Q1 - (threshold * IQR)\n",
    "    upper_bound = Q3 + (threshold * IQR)\n",
    "    return df[(df[col] < lower_bound) | (df[col] > upper_bound)]\n",
    "\n",
    "outliers = check_outliers(receipts, 'pointsEarned')\n",
    "print(f\"Number of outliers: {len(outliers)}\")"
   ]
  },
  {
   "cell_type": "markdown",
   "metadata": {},
   "source": [
    "### Exporting as CSV's to query with SQL"
   ]
  },
  {
   "cell_type": "code",
   "execution_count": 16,
   "metadata": {},
   "outputs": [],
   "source": [
    "# exporting dfs to csv's that can be used to query in sql\n",
    "\n",
    "receipts.to_csv('/Users/deannagould/Documents/Bucks/github/fetch-rewards/csv_files/receipts.csv', index=False)\n",
    "items.to_csv('/Users/deannagould/Documents/Bucks/github/fetch-rewards/csv_files/items.csv', index=False)\n",
    "brands.to_csv('/Users/deannagould/Documents/Bucks/github/fetch-rewards/csv_files/brands.csv', index=False)\n",
    "users.to_csv('/Users/deannagould/Documents/Bucks/github/fetch-rewards/csv_files/users.csv', index=False)"
   ]
  },
  {
   "cell_type": "code",
   "execution_count": null,
   "metadata": {},
   "outputs": [],
   "source": []
  }
 ],
 "metadata": {
  "kernelspec": {
   "display_name": "venv",
   "language": "python",
   "name": "python3"
  },
  "language_info": {
   "codemirror_mode": {
    "name": "ipython",
    "version": 3
   },
   "file_extension": ".py",
   "mimetype": "text/x-python",
   "name": "python",
   "nbconvert_exporter": "python",
   "pygments_lexer": "ipython3",
   "version": "3.11.5"
  },
  "orig_nbformat": 4
 },
 "nbformat": 4,
 "nbformat_minor": 2
}
